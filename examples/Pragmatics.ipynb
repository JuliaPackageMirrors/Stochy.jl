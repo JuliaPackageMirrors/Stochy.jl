{
 "metadata": {
  "language": "Julia",
  "name": "",
  "signature": "sha256:ca946c0cb8521ff7ba00f43953e8b177ec9c7efb030ea44bd5dd877aa06188e0"
 },
 "nbformat": 3,
 "nbformat_minor": 0,
 "worksheets": [
  {
   "cells": [
    {
     "cell_type": "code",
     "collapsed": false,
     "input": [
      "using Stochy"
     ],
     "language": "python",
     "metadata": {},
     "outputs": [
      {
       "output_type": "stream",
       "stream": "stderr",
       "text": [
        "INFO: Load Gadfly before Appl to extend plot function.\n"
       ]
      }
     ],
     "prompt_number": 1
    },
    {
     "cell_type": "code",
     "collapsed": false,
     "input": [
      "@appl function literallistener(utterance)\n",
      "    println(\"literallistener(\", utterance, \")\")\n",
      "    enum() do\n",
      "        local world = worldprior(),\n",
      "              m = meaning(utterance, world)\n",
      "        factor(m ? 0 : -Inf)\n",
      "        world\n",
      "    end\n",
      "end"
     ],
     "language": "python",
     "metadata": {},
     "outputs": [
      {
       "metadata": {},
       "output_type": "pyout",
       "prompt_number": 2,
       "text": [
        "literallistener (generic function with 1 method)"
       ]
      }
     ],
     "prompt_number": 2
    },
    {
     "cell_type": "code",
     "collapsed": false,
     "input": [
      "@appl function worldprior()\n",
      "    randominteger(4) - 1\n",
      "end"
     ],
     "language": "python",
     "metadata": {},
     "outputs": [
      {
       "metadata": {},
       "output_type": "pyout",
       "prompt_number": 3,
       "text": [
        "worldprior (generic function with 1 method)"
       ]
      }
     ],
     "prompt_number": 3
    },
    {
     "cell_type": "code",
     "collapsed": false,
     "input": [
      "@appl function utteranceprior()\n",
      "    local utterances = [\n",
      "        \"some of the people are nice\",\n",
      "        \"all of the people are nice\",\n",
      "        \"none of the people are nice\"]\n",
      "    utterances[randominteger(3)]\n",
      "end"
     ],
     "language": "python",
     "metadata": {},
     "outputs": [
      {
       "metadata": {},
       "output_type": "pyout",
       "prompt_number": 4,
       "text": [
        "utteranceprior (generic function with 1 method)"
       ]
      }
     ],
     "prompt_number": 4
    },
    {
     "cell_type": "code",
     "collapsed": false,
     "input": [
      "@appl function meaning(utterance, world)\n",
      "    utterance == \"some of the people are nice\" ? world > 0 :\n",
      "    utterance == \"all of the people are nice\" ? world == 3 :\n",
      "    utterance == \"none of the people are nice\" ? world == 0 :\n",
      "    true\n",
      "end"
     ],
     "language": "python",
     "metadata": {},
     "outputs": [
      {
       "metadata": {},
       "output_type": "pyout",
       "prompt_number": 5,
       "text": [
        "meaning (generic function with 1 method)"
       ]
      }
     ],
     "prompt_number": 5
    },
    {
     "cell_type": "code",
     "collapsed": false,
     "input": [
      "@appl literallistener(\"some of the people are nice\")"
     ],
     "language": "python",
     "metadata": {},
     "outputs": [
      {
       "output_type": "stream",
       "stream": "stdout",
       "text": [
        "literallistener(some of the people are nice"
       ]
      },
      {
       "output_type": "stream",
       "stream": "stdout",
       "text": [
        ")\n",
        "("
       ]
      },
      {
       "output_type": "stream",
       "stream": "stdout",
       "text": [
        "{4},0."
       ]
      },
      {
       "output_type": "stream",
       "stream": "stdout",
       "text": [
        "25)\n",
        "({2},0.25)\n",
        "({3},0.25)\n",
        "({1},0.0)\n"
       ]
      },
      {
       "metadata": {},
       "output_type": "pyout",
       "prompt_number": 6,
       "text": [
        "Discrete([2=>0.3333333333333333,3=>0.3333333333333333,1=>0.3333333333333333])"
       ]
      }
     ],
     "prompt_number": 6
    },
    {
     "cell_type": "code",
     "collapsed": false,
     "input": [
      "@appl function speaker(world)\n",
      "    println(\"speaker(\", world, \")\")\n",
      "    enum() do\n",
      "        local utterance = utteranceprior()\n",
      "        #factor(world == sample(literallistener(utterance)) ? 0 : -Inf)\n",
      "        local l = literallistener(utterance)\n",
      "        factor(score(l, world))\n",
      "        utterance\n",
      "    end\n",
      "end"
     ],
     "language": "python",
     "metadata": {},
     "outputs": [
      {
       "metadata": {},
       "output_type": "pyout",
       "prompt_number": 7,
       "text": [
        "speaker (generic function with 1 method)"
       ]
      }
     ],
     "prompt_number": 7
    },
    {
     "cell_type": "code",
     "collapsed": false,
     "input": [
      "@appl function listener(utterance)\n",
      "    println(\"listener(\", utterance, \")\")\n",
      "    enum() do\n",
      "        local world = worldprior()\n",
      "        #factor(utterance == sample(speaker(world)) ? 0 : -Inf)\n",
      "        local s = speaker(world)\n",
      "        factor(score(s, utterance))\n",
      "        world\n",
      "    end\n",
      "end"
     ],
     "language": "python",
     "metadata": {},
     "outputs": [
      {
       "metadata": {},
       "output_type": "pyout",
       "prompt_number": 8,
       "text": [
        "listener (generic function with 1 method)"
       ]
      }
     ],
     "prompt_number": 8
    },
    {
     "cell_type": "code",
     "collapsed": false,
     "input": [
      "@appl listener(\"some of the people are nice\")"
     ],
     "language": "python",
     "metadata": {},
     "outputs": [
      {
       "output_type": "stream",
       "stream": "stdout",
       "text": [
        "listener(some of the people are nice"
       ]
      },
      {
       "output_type": "stream",
       "stream": "stdout",
       "text": [
        ")\n",
        "speaker(3)\n",
        "literallistener(all of the people are nice)\n",
        "({4},0.25)\n",
        "({2},0.0)\n",
        "({3},0.0)\n",
        "({1},0.0)\n",
        "("
       ]
      },
      {
       "output_type": "stream",
       "stream": "stdout",
       "text": [
        "{2},0.3333333333333333)\n",
        "literallistener(none of the people are nice)\n",
        "({4},0.0)\n",
        "({2},0.0)\n",
        "({3},0.0)\n",
        "({1},0.25)\n",
        "({3},0.0)\n",
        "literallistener(some of the people are nice)\n",
        "({4},0.25)\n",
        "({2},0.25)\n",
        "({3},0.25)\n",
        "({1},0.0)\n",
        "({1},0.11111111111111109)\n",
        "({4},0.06249999999999998)\n",
        "speaker(1)\n",
        "literallistener(all of the people are nice)\n",
        "({4},0.25)\n",
        "({2},0.0)\n",
        "({3},0.0)\n",
        "({1},0.0)\n",
        "({2},0.0)\n",
        "literallistener(none of the people are nice)\n",
        "({4},0.0)\n",
        "({2},0.0)\n",
        "({3},0.0)\n",
        "({1},0.25)\n",
        "({3},0.0)\n",
        "literallistener(some of the people are nice)\n",
        "({4},0.25)\n",
        "({2},0.25)\n",
        "({3},0.25)\n",
        "({1},0.0)\n",
        "({1},0.11111111111111109)\n",
        "({2},0.25)\n",
        "speaker(2)\n",
        "literallistener(all of the people are nice)\n",
        "({4},0.25)\n",
        "({2},0.0)\n",
        "({3},0.0)\n",
        "({1},0.0)\n",
        "({2},0.0)\n",
        "literallistener(none of the people are nice)\n",
        "({4},0.0)\n",
        "({2},0.0)\n",
        "({3},0.0)\n",
        "({1},0.25)\n",
        "({3},0.0)\n",
        "literallistener(some of the people are nice)\n",
        "({4},0.25)\n",
        "({2},0.25)\n",
        "({3},0.25)\n",
        "({1},0.0)\n",
        "({1},0.11111111111111109)\n",
        "({3},0.25)\n",
        "speaker(0)\n",
        "literallistener(all of the people are nice)\n",
        "({4},0.25)\n",
        "({2},0.0)\n",
        "({3},0.0)\n",
        "({1},0.0)\n",
        "({2},0.0)\n",
        "literallistener(none of the people are nice)\n",
        "({4},0.0)\n",
        "({2},0.0)\n",
        "({3},0.0)\n",
        "({1},0.25)\n",
        "({3},0.3333333333333333)\n",
        "literallistener(some of the people are nice)\n",
        "({4},0.25)\n",
        "({2},0.25)\n",
        "({3},0.25)\n",
        "({1},0.0)\n",
        "({1},0.0)\n",
        "({1},0.0)\n"
       ]
      },
      {
       "metadata": {},
       "output_type": "pyout",
       "prompt_number": 9,
       "text": [
        "Discrete([2=>0.4444444444444444,3=>0.11111111111111108,1=>0.4444444444444444])"
       ]
      }
     ],
     "prompt_number": 9
    },
    {
     "cell_type": "code",
     "collapsed": false,
     "input": [],
     "language": "python",
     "metadata": {},
     "outputs": [],
     "prompt_number": 10
    },
    {
     "cell_type": "code",
     "collapsed": false,
     "input": [],
     "language": "python",
     "metadata": {},
     "outputs": [],
     "prompt_number": 11
    }
   ],
   "metadata": {}
  }
 ]
}